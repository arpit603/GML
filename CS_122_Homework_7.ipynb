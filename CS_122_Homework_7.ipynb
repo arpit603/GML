{
  "cells": [
    {
      "cell_type": "markdown",
      "metadata": {
        "id": "view-in-github",
        "colab_type": "text"
      },
      "source": [
        "<a href=\"https://colab.research.google.com/github/arpit603/GML/blob/main/CS_122_Homework_7.ipynb\" target=\"_parent\"><img src=\"https://colab.research.google.com/assets/colab-badge.svg\" alt=\"Open In Colab\"/></a>"
      ]
    },
    {
      "cell_type": "markdown",
      "id": "d82e2c94-00e8-4bcf-8555-c04c6f6e983a",
      "metadata": {
        "id": "d82e2c94-00e8-4bcf-8555-c04c6f6e983a"
      },
      "source": [
        "# CS 122 Homework 7"
      ]
    },
    {
      "cell_type": "markdown",
      "id": "19d7f441-0410-4e1f-b757-44f237c4cdbd",
      "metadata": {
        "id": "19d7f441-0410-4e1f-b757-44f237c4cdbd"
      },
      "source": [
        "In this homework, you will showcase your ability to use a Python-based API. There are many Python tools for APIs out there for a variety of sites including Twitch, Ebay, Twitter, Spotify, Reddit, SoundCloud, ChatGPT, and many more. You task is to find an API of your choosing (not one that was shown in class), investigate the documentation, and show how to use the API for simple tasks. Someone familiar with Python should be able to follow your notebook and use the API tools you demo here. If an API does not have tools in Python, then unfortunately it cannot be used for this assignment.\n",
        "\n",
        "Note 1: some APIs (e.g. ChatGPT) require that you pay for tokens to use the API. Using a free API is encouraged for this homework assignment.\n",
        "\n",
        "Note 2: Be sure to format this notebook well using a combination of coding cells and markdown cells with headers, lists, tables, and other formatting as needed. Some points in this assingment will be given for formatting."
      ]
    },
    {
      "cell_type": "markdown",
      "id": "eca7e003-1262-46d9-b97b-179840ab90f0",
      "metadata": {
        "id": "eca7e003-1262-46d9-b97b-179840ab90f0"
      },
      "source": [
        "## Problem 7.1: Setup Instructions\n",
        "In this section, add instructions to prepare your conda environment with a package to use the tools for the API of your choosing. For example, does the user need to use `conda install` to install a new package? Pip perhaps? Write instructions here."
      ]
    },
    {
      "cell_type": "code",
      "execution_count": null,
      "id": "1d10122e-0084-4392-9735-7a930aa8d260",
      "metadata": {
        "id": "1d10122e-0084-4392-9735-7a930aa8d260"
      },
      "outputs": [],
      "source": [
        "# edit these cells to add notes about the installation"
      ]
    },
    {
      "cell_type": "code",
      "execution_count": null,
      "id": "a0475312",
      "metadata": {
        "id": "a0475312"
      },
      "outputs": [],
      "source": [
        "# be sure to use markdown, code, or raw type cells to keep your notes organized and formatted well\n"
      ]
    },
    {
      "cell_type": "code",
      "source": [
        "# For this homework i have chosen the spotify web API, for that we need-\n",
        "#1. setup the api access creds on spotify web api website, there we get client id and client secret\n",
        "#2. spotipy library which allows us to authenticate and call the api an get data"
      ],
      "metadata": {
        "id": "t1PSN0Wa_CKp"
      },
      "id": "t1PSN0Wa_CKp",
      "execution_count": null,
      "outputs": []
    },
    {
      "cell_type": "code",
      "execution_count": 1,
      "id": "46fb6e24",
      "metadata": {
        "colab": {
          "base_uri": "https://localhost:8080/"
        },
        "id": "46fb6e24",
        "outputId": "2a600e60-50b7-4886-a40b-ef479ac6b96c"
      },
      "outputs": [
        {
          "output_type": "stream",
          "name": "stdout",
          "text": [
            "Collecting spotipy\n",
            "  Downloading spotipy-2.25.1-py3-none-any.whl.metadata (5.1 kB)\n",
            "Collecting redis>=3.5.3 (from spotipy)\n",
            "  Downloading redis-5.2.1-py3-none-any.whl.metadata (9.1 kB)\n",
            "Requirement already satisfied: requests>=2.25.0 in /usr/local/lib/python3.11/dist-packages (from spotipy) (2.32.3)\n",
            "Requirement already satisfied: urllib3>=1.26.0 in /usr/local/lib/python3.11/dist-packages (from spotipy) (2.3.0)\n",
            "Requirement already satisfied: charset-normalizer<4,>=2 in /usr/local/lib/python3.11/dist-packages (from requests>=2.25.0->spotipy) (3.4.1)\n",
            "Requirement already satisfied: idna<4,>=2.5 in /usr/local/lib/python3.11/dist-packages (from requests>=2.25.0->spotipy) (3.10)\n",
            "Requirement already satisfied: certifi>=2017.4.17 in /usr/local/lib/python3.11/dist-packages (from requests>=2.25.0->spotipy) (2025.1.31)\n",
            "Downloading spotipy-2.25.1-py3-none-any.whl (31 kB)\n",
            "Downloading redis-5.2.1-py3-none-any.whl (261 kB)\n",
            "\u001b[2K   \u001b[90m━━━━━━━━━━━━━━━━━━━━━━━━━━━━━━━━━━━━━━━━\u001b[0m \u001b[32m261.5/261.5 kB\u001b[0m \u001b[31m7.7 MB/s\u001b[0m eta \u001b[36m0:00:00\u001b[0m\n",
            "\u001b[?25hInstalling collected packages: redis, spotipy\n",
            "Successfully installed redis-5.2.1 spotipy-2.25.1\n"
          ]
        }
      ],
      "source": [
        "pip install spotipy"
      ]
    },
    {
      "cell_type": "code",
      "execution_count": null,
      "id": "2c1921e3",
      "metadata": {
        "id": "2c1921e3"
      },
      "outputs": [],
      "source": []
    },
    {
      "cell_type": "markdown",
      "id": "3428dd04",
      "metadata": {
        "id": "3428dd04"
      },
      "source": [
        "## Problem 7.2: API Demo 1\n",
        "In this section, showcase one of the methods you can use with your API. Use a markdown cell to describe what the method does and at least one coding cell to show how the method works."
      ]
    },
    {
      "cell_type": "markdown",
      "id": "aa579c24",
      "metadata": {
        "id": "aa579c24"
      },
      "source": [
        "API Demo 1:  Searching for a Track\n",
        "\n",
        "---\n",
        "\n",
        "\n",
        "In this demo, we use the Spotify API to search for a specific track. We'll demonstrate how to use the search functionality to look up a track by name and then extract key details such as the track name, artist, and album. This demo uses the Spotipy library."
      ]
    },
    {
      "cell_type": "code",
      "execution_count": 3,
      "id": "89da8ff9",
      "metadata": {
        "colab": {
          "base_uri": "https://localhost:8080/"
        },
        "id": "89da8ff9",
        "outputId": "cf7635ad-e121-430a-c983-e004b436667a"
      },
      "outputs": [
        {
          "output_type": "stream",
          "name": "stdout",
          "text": [
            "Track Name: Shape of You\n",
            "Artist: Ed Sheeran\n",
            "Album: ÷ (Deluxe)\n"
          ]
        }
      ],
      "source": [
        "# Import necessary libraries\n",
        "import spotipy\n",
        "from spotipy.oauth2 import SpotifyClientCredentials\n",
        "import os\n",
        "\n",
        "# Set up the Spotify API credentials.\n",
        "# Ensure that your environment variables 'SPOTIPY_CLIENT_ID' and 'SPOTIPY_CLIENT_SECRET' are set.\n",
        "client_id = 'ef45788f0e1545b689f20230256146f2'\n",
        "client_secret = '85326ba0c14c45288cbc77cb3db50e2e'\n",
        "\n",
        "# Authenticate using the Client Credentials Manager.\n",
        "client_credentials_manager = SpotifyClientCredentials(client_id=client_id, client_secret=client_secret)\n",
        "sp = spotipy.Spotify(client_credentials_manager=client_credentials_manager)\n",
        "\n",
        "# Use the search method to find a track by name.\n",
        "query = \"Shape of You\"  # Example track query\n",
        "results = sp.search(q=query, type=\"track\", limit=1)\n",
        "\n",
        "# Extract the first matching track and print its details.\n",
        "if results['tracks']['items']:\n",
        "    track = results['tracks']['items'][0]\n",
        "    print(\"Track Name:\", track['name'])\n",
        "    print(\"Artist:\", track['artists'][0]['name'])\n",
        "    print(\"Album:\", track['album']['name'])\n",
        "else:\n",
        "    print(\"No track found for query:\", query)\n"
      ]
    },
    {
      "cell_type": "markdown",
      "id": "eead2df7",
      "metadata": {
        "id": "eead2df7"
      },
      "source": [
        "## Problem 7.3: API Demo 2\n",
        "In this section, showcase another one of the methods you can use with your API. Use a markdown cell to describe what the method does and at least one coding cell to show how the method works."
      ]
    },
    {
      "cell_type": "markdown",
      "id": "7de7a09b",
      "metadata": {
        "id": "7de7a09b"
      },
      "source": [
        "API Demo 2: Retrieving an Artist's Top Tracks\n",
        "In this demo, we use Spotify’s API to fetch the top tracks of a specific artist. The artist_top_tracks method returns a list of the most popular tracks for a given artist, which are determined by Spotify’s internal metrics. We’ll use Ed Sheeran’s Spotify artist ID as an example.\n"
      ]
    },
    {
      "cell_type": "code",
      "source": [
        "# Retrieve the top tracks for a given artist using Spotify API\n",
        "# Here, we use Ed Sheeran's Spotify Artist ID: '6eUKZXaKkcviH0Ku9w2n3V'\n",
        "artist_id = '6eUKZXaKkcviH0Ku9w2n3V'\n",
        "top_tracks = sp.artist_top_tracks(artist_id, country='US')  # Optional: specify a country\n",
        "\n",
        "print(\"Top Tracks for Ed Sheeran:\")\n",
        "for track in top_tracks['tracks']:\n",
        "    print(f\"Track Name: {track['name']} - Album: {track['album']['name']}\")\n"
      ],
      "metadata": {
        "colab": {
          "base_uri": "https://localhost:8080/"
        },
        "id": "LR23zXbiAwtG",
        "outputId": "3acb6fff-a66c-4895-8f54-0290de42c377"
      },
      "id": "LR23zXbiAwtG",
      "execution_count": 4,
      "outputs": [
        {
          "output_type": "stream",
          "name": "stdout",
          "text": [
            "Top Tracks for Ed Sheeran:\n",
            "Track Name: Perfect - Album: ÷ (Deluxe)\n",
            "Track Name: Shape of You - Album: ÷ (Deluxe)\n",
            "Track Name: Photograph - Album: x (Wembley Edition)\n",
            "Track Name: Thinking out Loud - Album: x (Wembley Edition)\n",
            "Track Name: Shivers - Album: =\n",
            "Track Name: Bad Habits - Album: =\n",
            "Track Name: I Don't Care (with Justin Bieber) - Album: No.6 Collaborations Project\n",
            "Track Name: Castle on the Hill - Album: ÷ (Deluxe)\n",
            "Track Name: Galway Girl - Album: ÷ (Deluxe)\n",
            "Track Name: Bam Bam (feat. Ed Sheeran) - Album: Familia\n"
          ]
        }
      ]
    },
    {
      "cell_type": "code",
      "source": [
        "#helper code -\n",
        "#for getting the Artist ID of an artist using their name, we can use the following code -\n",
        "# artist name to search for.\n",
        "artist_query = \"Arijit Sigh\"\n",
        "\n",
        "# Use the search method to find the artist.\n",
        "results = sp.search(q=artist_query, type=\"artist\", limit=1)\n",
        "\n",
        "if results['artists']['items']:\n",
        "    artist = results['artists']['items'][0]\n",
        "    artist_id = artist['id']\n",
        "    print(\"Artist Name:\", artist['name'])\n",
        "    print(\"Artist ID:\", artist_id)\n",
        "else:\n",
        "    print(\"No artist found for query:\", artist_query)\n",
        "\n"
      ],
      "metadata": {
        "colab": {
          "base_uri": "https://localhost:8080/"
        },
        "id": "eEZrz681A-Pi",
        "outputId": "2ec4e444-70fd-4d79-cb9c-24573c165076"
      },
      "id": "eEZrz681A-Pi",
      "execution_count": 11,
      "outputs": [
        {
          "output_type": "stream",
          "name": "stdout",
          "text": [
            "Artist Name: Arijit Singh\n",
            "Artist ID: 4YRxDV8wJFPHPTeXepOstw\n"
          ]
        }
      ]
    },
    {
      "cell_type": "markdown",
      "id": "0d730431",
      "metadata": {
        "id": "0d730431"
      },
      "source": []
    },
    {
      "cell_type": "markdown",
      "id": "99c36241",
      "metadata": {
        "id": "99c36241"
      },
      "source": [
        "## Problem 7.4: Additional Documentation\n",
        "In this section, write a note to indicate where a user would be able to find more information about the API. Include links to the documentation and any other pertinent information one would need to learn more."
      ]
    },
    {
      "cell_type": "markdown",
      "id": "7a56bd82",
      "metadata": {
        "id": "7a56bd82"
      },
      "source": [
        "### Additional Documentation\n",
        "---\n",
        "\n",
        "For more information about using the Spotify API, please use these resources:\n",
        "\n",
        "- Spotify Web API Documentation:\n",
        "  This is the official documentation that covers all aspects of the API, including available endpoints, authentication methods, and usage examples.  \n",
        "  [Spotify Web API Documentation](https://developer.spotify.com/documentation/web-api/)\n",
        "\n",
        "- Spotipy Documentation:\n",
        "  This library is used in this notebook to interact with the Spotify API using Python. The documentation provides details on installation, usage, and example code.  \n",
        "  [Spotipy Documentation](https://spotipy.readthedocs.io/)\n",
        "\n"
      ]
    }
  ],
  "metadata": {
    "kernelspec": {
      "display_name": "cs122",
      "language": "python",
      "name": "cs122"
    },
    "language_info": {
      "codemirror_mode": {
        "name": "ipython",
        "version": 3
      },
      "file_extension": ".py",
      "mimetype": "text/x-python",
      "name": "python",
      "nbconvert_exporter": "python",
      "pygments_lexer": "ipython3",
      "version": "3.10.12"
    },
    "colab": {
      "provenance": [],
      "include_colab_link": true
    }
  },
  "nbformat": 4,
  "nbformat_minor": 5
}